{
 "cells": [
  {
   "cell_type": "markdown",
   "metadata": {},
   "source": [
    "# Naïve implemetation of a dense NN"
   ]
  },
  {
   "cell_type": "code",
   "execution_count": 1,
   "metadata": {},
   "outputs": [
    {
     "name": "stderr",
     "output_type": "stream",
     "text": [
      "Using TensorFlow backend.\n"
     ]
    }
   ],
   "source": [
    "# 3. Import libraries and modules\n",
    "import numpy as np\n",
    "np.random.seed(123)  # for reproducibility\n",
    " \n",
    "from keras.models import Sequential\n",
    "from keras.layers import Dense, Dropout, Activation, Flatten\n",
    "from keras.layers import Convolution2D, MaxPooling2D\n",
    "from keras.utils import np_utils\n",
    "from keras import optimizers\n",
    "from keras.datasets import mnist"
   ]
  },
  {
   "cell_type": "code",
   "execution_count": 2,
   "metadata": {},
   "outputs": [],
   "source": [
    "def load_data():\n",
    "    '''Returns properly-shaped data from the MNIST builtin dataset\n",
    "    ''' \n",
    "    # 4. Load pre-shuffled MNIST data into train and test sets\n",
    "    (X_train, y_train), (X_test, y_test) = mnist.load_data()\n",
    "\n",
    "    p_y = X_train.shape[1]\n",
    "    p_x = X_train.shape[2]\n",
    "\n",
    "    # 5. Preprocess input data\n",
    "    X_train = X_train.reshape(X_train.shape[0], 1, p_y, p_x)\n",
    "    X_test = X_test.reshape(X_test.shape[0], 1, p_y, p_x)\n",
    "    X_train = X_train.astype('float32')\n",
    "    X_test = X_test.astype('float32')\n",
    "    X_train /= 255.\n",
    "    X_test /= 255.\n",
    " \n",
    "    # 6. One-hot encoding\n",
    "    Y_train = np_utils.to_categorical(y_train, 10)\n",
    "    Y_test = np_utils.to_categorical(y_test, 10)\n",
    "    \n",
    "    amounts = [ 0 for _ in range(10)]\n",
    "    for i in range(10):\n",
    "        amounts[i] = len(np.nonzero(Y_train[:,i])[0])\n",
    "\n",
    "    print(\"amounts:\",amounts)\n",
    "    # [5923, 6742, 5958, 6131, 5842, 5421, 5918, 6265, 5851, 5949]\n",
    "    maxim = np.amax(np.array(amounts))\n",
    "    print(maxim)\n",
    "    print(\"proportions:\",float(maxim)/np.array(amounts))\n",
    "    # [0.09871667 0.11236667 0.0993 0.10218333 0.09736667 0.09035 0.09863333 0.10441667 0.09751667 0.09915   ]\n",
    "    weights = { i : float(maxim)/float(amounts[i]) for i in range(len(amounts))}\n",
    "    return X_train, X_test, Y_train, Y_test, p_x, p_y, weights"
   ]
  },
  {
   "cell_type": "code",
   "execution_count": 40,
   "metadata": {},
   "outputs": [],
   "source": [
    "def Dense_net(I,H):\n",
    "    # 7. Define model architecture\n",
    "    model = Sequential()\n",
    "\n",
    "    model.add(Flatten())\n",
    "    model.add(Dense(I, activation='relu'))\n",
    "    model.add(Dense(H, activation='relu'))\n",
    "    model.add(Dense(10, activation='sigmoid'))\n",
    "\n",
    "    # 8. Compile model\n",
    "    sgd = optimizers.SGD(lr=0.01, decay=1e-6, momentum=0.9, nesterov=True)\n",
    "    model.compile(loss='categorical_hinge', optimizer='sgd', metrics=['accuracy'])\n",
    "    return model\n",
    "\n",
    "\n",
    "\n",
    "#model.add(Convolution2D(32, 3, 3, activation='relu', input_shape=(1,28,28)))\n",
    "#model.add(Convolution2D(32, 3, 3, activation='relu'))\n",
    "\n",
    "def Conv_net(I):\n",
    "    model = Sequential()\n",
    "    # 10 5x5 filters, stride=1 over 28x28 image: result 10 24x24 maps\n",
    "    model.add(Convolution2D(filters=10, kernel_size=5, strides=1, activation='relu', data_format='channels_first', input_shape=(1,28,28)))\n",
    "    # 10 12x12 maps\n",
    "    model.add(MaxPooling2D(pool_size=(2,2), data_format=\"channels_first\"))\n",
    "    # 10 3x3 filters, stride=3  over 10 12x12 maps: result 100 4x4 maps = 1600 values\n",
    "    model.add(Convolution2D(filters=100, kernel_size=3, strides=3, activation='relu', data_format=\"channels_first\"))\n",
    "\n",
    "    #model.add(Dropout(0.25))\n",
    " \n",
    "    model.add(Flatten())\n",
    "    model.add(Dense(400, activation='relu'))\n",
    "    #model.add(Dropout(0.5))\n",
    "    model.add(Dense(10, activation='sigmoid'))\n",
    "    \n",
    "    # 8. Compile model\n",
    "    sgd = optimizers.SGD(lr=1.0, decay=1e-1, momentum=0.0, nesterov=False)\n",
    "    model.compile(loss='categorical_crossentropy', optimizer='adam', metrics=['accuracy'])\n",
    "    return model\n"
   ]
  },
  {
   "cell_type": "code",
   "execution_count": 41,
   "metadata": {},
   "outputs": [
    {
     "name": "stdout",
     "output_type": "stream",
     "text": [
      "amounts: [5923, 6742, 5958, 6131, 5842, 5421, 5918, 6265, 5851, 5949]\n",
      "6742\n",
      "proportions: [1.13827452 1.         1.13158778 1.09965748 1.15405683 1.24368198\n",
      " 1.13923623 1.07613727 1.15228166 1.13329971]\n"
     ]
    }
   ],
   "source": [
    "X_train, X_test, Y_train, Y_test, p_x, p_y, weights= load_data()\n",
    "#model = Dense_net(p_x*p_y,p_y)\n",
    "model = Conv_net(p_x*p_y)"
   ]
  },
  {
   "cell_type": "code",
   "execution_count": 42,
   "metadata": {},
   "outputs": [
    {
     "name": "stdout",
     "output_type": "stream",
     "text": [
      "(60000, 1, 28, 28)\n",
      "Train on 48000 samples, validate on 12000 samples\n",
      "Epoch 1/10\n",
      "48000/48000 [==============================] - 78s 2ms/step - loss: 0.1957 - acc: 0.9424 - val_loss: 0.0760 - val_acc: 0.9761\n",
      "Epoch 2/10\n",
      "48000/48000 [==============================] - 76s 2ms/step - loss: 0.0639 - acc: 0.9799 - val_loss: 0.0517 - val_acc: 0.9856\n",
      "Epoch 3/10\n",
      "48000/48000 [==============================] - 75s 2ms/step - loss: 0.0429 - acc: 0.9867 - val_loss: 0.0532 - val_acc: 0.9861\n",
      "Epoch 4/10\n",
      "48000/48000 [==============================] - 76s 2ms/step - loss: 0.0309 - acc: 0.9893 - val_loss: 0.0487 - val_acc: 0.9857\n",
      "Epoch 5/10\n",
      "48000/48000 [==============================] - 77s 2ms/step - loss: 0.0238 - acc: 0.9920 - val_loss: 0.0547 - val_acc: 0.9838\n",
      "Epoch 6/10\n",
      "48000/48000 [==============================] - 76s 2ms/step - loss: 0.0187 - acc: 0.9937 - val_loss: 0.0445 - val_acc: 0.9878\n",
      "Epoch 7/10\n",
      "48000/48000 [==============================] - 77s 2ms/step - loss: 0.0139 - acc: 0.9955 - val_loss: 0.0547 - val_acc: 0.9867\n",
      "Epoch 8/10\n",
      "48000/48000 [==============================] - 76s 2ms/step - loss: 0.0142 - acc: 0.9952 - val_loss: 0.0549 - val_acc: 0.9852\n",
      "Epoch 9/10\n",
      "48000/48000 [==============================] - 76s 2ms/step - loss: 0.0103 - acc: 0.9962 - val_loss: 0.0573 - val_acc: 0.9879\n",
      "Epoch 10/10\n",
      "48000/48000 [==============================] - 76s 2ms/step - loss: 0.0091 - acc: 0.9971 - val_loss: 0.0577 - val_acc: 0.9858\n"
     ]
    }
   ],
   "source": [
    "# 9. Fit model on training data\n",
    "print(X_train.shape)\n",
    "history = model.fit(X_train, Y_train, batch_size=32, validation_split=0.2,epochs=10,class_weight=None, verbose=1)"
   ]
  },
  {
   "cell_type": "code",
   "execution_count": 43,
   "metadata": {
    "scrolled": true
   },
   "outputs": [
    {
     "name": "stdout",
     "output_type": "stream",
     "text": [
      "10000/10000 [==============================] - 7s 705us/step\n",
      "[0.05636017298908701, 0.986] ['loss', 'acc']\n",
      "60000/60000 [==============================] - 42s 692us/step\n",
      "[0.02020607017669366, 0.9941] ['loss', 'acc']\n"
     ]
    }
   ],
   "source": [
    "# 10. Evaluate model on test data\n",
    "score = model.evaluate(X_test, Y_test, verbose=1)\n",
    "print(score, model.metrics_names)\n",
    "\n",
    "score = model.evaluate(X_train, Y_train, verbose=1)\n",
    "print(score, model.metrics_names)"
   ]
  },
  {
   "cell_type": "markdown",
   "metadata": {},
   "source": [
    "# Reuslts\n",
    "## Batch size = 32\n",
    "#### sgd = optimizers.SGD(lr=0.01, decay=1e-6, momentum=0.9, nesterov=True)\n",
    "\n",
    "```\n",
    "model.compile(loss='hinge',optimizer='sgd', metrics=['accuracy'])\n",
    "[0.9000134593963623, 0.2203] ['loss', 'acc']\n",
    "[0.900014937432607, 0.22176666666666667] ['loss', 'acc']\n",
    "```\n",
    "\n",
    "#### sgd = optimizers.SGD(lr=0.01, decay=1e-6, momentum=0.9, nesterov=True)\n",
    "\n",
    "```\n",
    "model.compile(loss='hinge', optimizer='adam', metrics=['accuracy'])\n",
    "[0.899999976348877, 0.1391] ['loss', 'acc']\n",
    "[0.8999999761581421, 0.1407] ['loss', 'acc']\n",
    "\n",
    "```\n",
    "####   sgd = optimizers.SGD(lr=0.01, decay=1e-6, momentum=0.9, nesterov=True)\n",
    "```\n",
    "model.compile(loss='categorical_hinge', optimizer='sgd', metrics=['accuracy'])\n",
    "[0.14318368166685105, 0.9432] ['loss', 'acc']\n",
    "[0.14425393110215665, 0.94165] ['loss', 'acc']\n",
    "```\n",
    "\n",
    "#### sgd = optimizers.SGD(lr=0.01, decay=1e-6, momentum=0.9, nesterov=False)\n",
    "```\n",
    "model.compile(loss='categorical_hinge', optimizer='sgd', metrics=['accuracy'])\n",
    "[0.14352178813815117, 0.9423] ['loss', 'acc']\n",
    "[0.14545622345209122, 0.9408666666666666] ['loss', 'acc']\n",
    "```\n",
    "\n",
    "#### sgd = optimizers.SGD(lr=0.01, decay=1e-6, momentum=0.5, nesterov=False)\n",
    "```\n",
    "model.compile(loss='categorical_hinge', optimizer='sgd', metrics=['accuracy'])\n",
    "[0.14449261466264723, 0.942] ['loss', 'acc']\n",
    "[0.1465225926607847, 0.94075] ['loss', 'acc']\n",
    "\n",
    "```\n",
    "\n",
    "#### sgd = optimizers.SGD(lr=0.01, decay=1e-6, momentum=0.0, nesterov=False)\n",
    "```\n",
    "model.compile(loss='categorical_hinge', optimizer='sgd', metrics=['accuracy'])\n",
    "[0.1458134367585182, 0.942] ['loss', 'acc']\n",
    "[0.14705375750462213, 0.94035] ['loss', 'acc']\n",
    "```\n",
    "\n",
    "## Batch size = 4\n",
    "\n",
    "#### sgd = optimizers.SGD(lr=1.0, decay=1e-1, momentum=0.0, nesterov=False)\n",
    "```\n",
    "model.compile(loss='categorical_hinge', optimizer='sgd', metrics=['accuracy'])\n",
    "[0.0571090503513813, 0.9757] ['loss', 'acc']\n",
    "[0.03696417738199234, 0.9839166666666667] ['loss', 'acc']\n",
    "```\n",
    "\n",
    "## using weights\n",
    "\n",
    "#### sgd = optimizers.SGD(lr=0.01, decay=1e-6, momentum=0.9, nesterov=False)\n",
    "```\n",
    "model.compile(loss='categorical_hinge', optimizer='sgd', metrics=['accuracy'])\n",
    "[0.1396585720539093, 0.9447] ['loss', 'acc']\n",
    "[0.13854599306086698, 0.94465] ['loss', 'acc']\n",
    "```\n"
   ]
  },
  {
   "cell_type": "markdown",
   "metadata": {},
   "source": [
    "# Analizing and preprocessing data"
   ]
  },
  {
   "cell_type": "code",
   "execution_count": 7,
   "metadata": {},
   "outputs": [
    {
     "name": "stdout",
     "output_type": "stream",
     "text": [
      "10000/10000 [==============================] - 1s 50us/step\n",
      "(10000, 10)\n"
     ]
    }
   ],
   "source": [
    "results = model.predict(X_test,batch_size=32, verbose=1)\n",
    "print(results.shape)"
   ]
  },
  {
   "cell_type": "code",
   "execution_count": 44,
   "metadata": {},
   "outputs": [],
   "source": [
    "from keras.utils import plot_model\n",
    "plot_model(model, show_shapes=True, to_file='model.png')"
   ]
  },
  {
   "cell_type": "code",
   "execution_count": 45,
   "metadata": {},
   "outputs": [
    {
     "data": {
      "image/png": "[encoded data removed]",
      "text/plain": [
       "<Figure size 432x288 with 1 Axes>"
      ]
     },
     "metadata": {
      "needs_background": "light"
     },
     "output_type": "display_data"
    },
    {
     "data": {
      "image/png": "[encoded data removed]",
      "text/plain": [
       "<Figure size 432x288 with 1 Axes>"
      ]
     },
     "metadata": {
      "needs_background": "light"
     },
     "output_type": "display_data"
    }
   ],
   "source": [
    "import matplotlib.pyplot as plt\n",
    "plt.figure()\n",
    "# Plot training & validation accuracy values\n",
    "plt.plot(history.history['acc'])\n",
    "#plt.plot(history.history['val_acc'])\n",
    "plt.title('Model accuracy')\n",
    "plt.ylabel('Accuracy')\n",
    "plt.xlabel('Epoch')\n",
    "plt.legend(['Train', 'Test'], loc='upper left')\n",
    "plt.show()\n",
    "\n",
    "# Plot training & validation loss values\n",
    "plt.plot(history.history['loss'])\n",
    "#plt.plot(history.history['val_loss'])\n",
    "plt.title('Model loss')\n",
    "plt.ylabel('Loss')\n",
    "plt.xlabel('Epoch')\n",
    "plt.legend(['Train', 'Test'], loc='upper left')\n",
    "plt.show()"
   ]
  },
  {
   "cell_type": "code",
   "execution_count": null,
   "metadata": {},
   "outputs": [],
   "source": []
  }
 ],
 "metadata": {
  "@webio": {
   "lastCommId": "0c5c1b12bfc84e49b8453201c28ce73a",
   "lastKernelId": "53bf23db-ba64-4a62-97d9-a1136cbe9fef"
  },
  "kernelspec": {
   "display_name": "Python 3",
   "language": "python",
   "name": "python3"
  },
  "language_info": {
   "codemirror_mode": {
    "name": "ipython",
    "version": 3
   },
   "file_extension": ".py",
   "mimetype": "text/x-python",
   "name": "python",
   "nbconvert_exporter": "python",
   "pygments_lexer": "ipython3",
   "version": "3.6.7"
  }
 },
 "nbformat": 4,
 "nbformat_minor": 2
}
