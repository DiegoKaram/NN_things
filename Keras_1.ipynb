{
 "cells": [
  {
   "cell_type": "markdown",
   "metadata": {},
   "source": [
    "# Naïve implemetation of a dense NN"
   ]
  },
  {
   "cell_type": "code",
   "execution_count": 26,
   "metadata": {},
   "outputs": [],
   "source": [
    "# 3. Import libraries and modules\n",
    "import numpy as np\n",
    "np.random.seed(123)  # for reproducibility\n",
    " \n",
    "from keras.models import Sequential\n",
    "from keras.layers import Dense, Dropout, Activation, Flatten\n",
    "from keras.layers import Convolution2D, MaxPooling2D\n",
    "from keras.utils import np_utils\n",
    "from keras import optimizers\n",
    "from keras.datasets import mnist"
   ]
  },
  {
   "cell_type": "code",
   "execution_count": 154,
   "metadata": {},
   "outputs": [],
   "source": [
    "def load_data():\n",
    "    '''Returns properly-shaped data from the MNIST builtin dataset\n",
    "    ''' \n",
    "    # 4. Load pre-shuffled MNIST data into train and test sets\n",
    "    (X_train, y_train), (X_test, y_test) = mnist.load_data()\n",
    "\n",
    "    p_y = X_train.shape[1]\n",
    "    p_x = X_train.shape[2]\n",
    "\n",
    "    # 5. Preprocess input data\n",
    "    X_train = X_train.reshape(X_train.shape[0], 1, p_y, p_x)\n",
    "    X_test = X_test.reshape(X_test.shape[0], 1, p_y, p_x)\n",
    "    X_train = X_train.astype('float32')\n",
    "    X_test = X_test.astype('float32')\n",
    "    X_train /= 255.\n",
    "    X_test /= 255.\n",
    " \n",
    "    # 6. One-hot encoding\n",
    "    Y_train = np_utils.to_categorical(y_train, 10)\n",
    "    Y_test = np_utils.to_categorical(y_test, 10)\n",
    "    \n",
    "    amounts = [ 0 for _ in range(10)]\n",
    "    for i in range(10):\n",
    "        amounts[i] = len(np.nonzero(Y_train[:,i])[0])\n",
    "\n",
    "    print(\"amounts:\",amounts)\n",
    "    # [5923, 6742, 5958, 6131, 5842, 5421, 5918, 6265, 5851, 5949]\n",
    "    maxim = np.amax(np.array(amounts))\n",
    "    print(maxim)\n",
    "    print(\"proportions:\",float(maxim)/np.array(amounts))\n",
    "    # [0.09871667 0.11236667 0.0993 0.10218333 0.09736667 0.09035 0.09863333 0.10441667 0.09751667 0.09915   ]\n",
    "    weights = { i : float(maxim)/float(amounts[i]) for i in range(len(amounts))}\n",
    "    return X_train, X_test, Y_train, Y_test, p_x, p_y, weights"
   ]
  },
  {
   "cell_type": "code",
   "execution_count": 162,
   "metadata": {},
   "outputs": [],
   "source": [
    "def Dense_net(I,H):\n",
    "    # 7. Define model architecture\n",
    "    model = Sequential()\n",
    "\n",
    "    model.add(Flatten())\n",
    "    model.add(Dense(I, activation='relu'))\n",
    "    model.add(Dense(H, activation='relu'))\n",
    "    model.add(Dense(10, activation='sigmoid'))\n",
    "\n",
    "    # 8. Compile model\n",
    "    sgd = optimizers.SGD(lr=0.01, decay=1e-6, momentum=0.9, nesterov=True)\n",
    "    model.compile(loss='categorical_hinge', optimizer='sgd', metrics=['accuracy'])\n",
    "    return model\n",
    "\n",
    "\n",
    "\n",
    "#model.add(Convolution2D(32, 3, 3, activation='relu', input_shape=(1,28,28)))\n",
    "#model.add(Convolution2D(32, 3, 3, activation='relu'))\n",
    "\n",
    "def Conv_net(I):\n",
    "    model = Sequential()\n",
    "    model.add(Convolution2D(filters=10, kernel_size=5, strides=1, activation='relu', data_format='channels_first', input_shape=(1,28,28)))\n",
    "    model.add(Convolution2D(filters=10, kernel_size=3, strides=3, activation='relu'))\n",
    "    model.add(MaxPooling2D(pool_size=(2,2)))\n",
    "    #model.add(Dropout(0.25))\n",
    " \n",
    "    model.add(Flatten())\n",
    "    model.add(Dense(400, activation='relu'))\n",
    "    #model.add(Dropout(0.5))\n",
    "    model.add(Dense(10, activation='sigmoid'))\n",
    "    \n",
    "    # 8. Compile model\n",
    "    sgd = optimizers.SGD(lr=1.0, decay=1e-1, momentum=0.0, nesterov=False)\n",
    "    model.compile(loss='categorical_hinge', optimizer='sgd', metrics=['accuracy'])\n",
    "    return model\n"
   ]
  },
  {
   "cell_type": "code",
   "execution_count": 168,
   "metadata": {},
   "outputs": [
    {
     "name": "stdout",
     "output_type": "stream",
     "text": [
      "amounts: [5923, 6742, 5958, 6131, 5842, 5421, 5918, 6265, 5851, 5949]\n",
      "6742\n",
      "proportions: [1.13827452 1.         1.13158778 1.09965748 1.15405683 1.24368198\n",
      " 1.13923623 1.07613727 1.15228166 1.13329971]\n"
     ]
    }
   ],
   "source": [
    "X_train, X_test, Y_train, Y_test, p_x, p_y, weights= load_data()\n",
    "model = Dense_net(p_x*p_y,p_y)\n",
    "#model = Conv_net(p_x*p_y)"
   ]
  },
  {
   "cell_type": "code",
   "execution_count": 169,
   "metadata": {},
   "outputs": [
    {
     "name": "stdout",
     "output_type": "stream",
     "text": [
      "Epoch 1/10\n",
      "60000/60000 [==============================] - 86s 1ms/step - loss: 0.3628 - acc: 0.8734\n",
      "Epoch 2/10\n",
      "60000/60000 [==============================] - 84s 1ms/step - loss: 0.1530 - acc: 0.9364\n",
      "Epoch 3/10\n",
      "60000/60000 [==============================] - 83s 1ms/step - loss: 0.1157 - acc: 0.9512\n",
      "Epoch 4/10\n",
      "60000/60000 [==============================] - 80s 1ms/step - loss: 0.0948 - acc: 0.9598\n",
      "Epoch 5/10\n",
      "60000/60000 [==============================] - 78s 1ms/step - loss: 0.0802 - acc: 0.9660\n",
      "Epoch 6/10\n",
      "60000/60000 [==============================] - 79s 1ms/step - loss: 0.0700 - acc: 0.9707\n",
      "Epoch 7/10\n",
      "60000/60000 [==============================] - 79s 1ms/step - loss: 0.0616 - acc: 0.9740\n",
      "Epoch 8/10\n",
      "60000/60000 [==============================] - 79s 1ms/step - loss: 0.0549 - acc: 0.9765\n",
      "Epoch 9/10\n",
      "60000/60000 [==============================] - 80s 1ms/step - loss: 0.0491 - acc: 0.9796\n",
      "Epoch 10/10\n",
      "60000/60000 [==============================] - 80s 1ms/step - loss: 0.0448 - acc: 0.9806\n"
     ]
    }
   ],
   "source": [
    "# 9. Fit model on training data\n",
    "history = model.fit(X_train, Y_train, batch_size=4, epochs=10,class_weight=None, verbose=1)"
   ]
  },
  {
   "cell_type": "code",
   "execution_count": 170,
   "metadata": {
    "scrolled": true
   },
   "outputs": [
    {
     "name": "stdout",
     "output_type": "stream",
     "text": [
      "10000/10000 [==============================] - 1s 91us/step\n",
      "[0.060316616034507754, 0.9751] ['loss', 'acc']\n",
      "60000/60000 [==============================] - 4s 71us/step\n",
      "[0.040416185794274015, 0.9819] ['loss', 'acc']\n"
     ]
    }
   ],
   "source": [
    "# 10. Evaluate model on test data\n",
    "score = model.evaluate(X_test, Y_test, verbose=1)\n",
    "print(score, model.metrics_names)\n",
    "\n",
    "score = model.evaluate(X_train, Y_train, verbose=1)\n",
    "print(score, model.metrics_names)"
   ]
  },
  {
   "cell_type": "markdown",
   "metadata": {},
   "source": [
    "# Reuslts\n",
    "## Batch size = 32\n",
    "#### sgd = optimizers.SGD(lr=0.01, decay=1e-6, momentum=0.9, nesterov=True)\n",
    "\n",
    "```\n",
    "model.compile(loss='hinge',optimizer='sgd', metrics=['accuracy'])\n",
    "[0.9000134593963623, 0.2203] ['loss', 'acc']\n",
    "[0.900014937432607, 0.22176666666666667] ['loss', 'acc']\n",
    "```\n",
    "\n",
    "#### sgd = optimizers.SGD(lr=0.01, decay=1e-6, momentum=0.9, nesterov=True)\n",
    "\n",
    "```\n",
    "model.compile(loss='hinge', optimizer='adam', metrics=['accuracy'])\n",
    "[0.899999976348877, 0.1391] ['loss', 'acc']\n",
    "[0.8999999761581421, 0.1407] ['loss', 'acc']\n",
    "\n",
    "```\n",
    "####   sgd = optimizers.SGD(lr=0.01, decay=1e-6, momentum=0.9, nesterov=True)\n",
    "```\n",
    "model.compile(loss='categorical_hinge', optimizer='sgd', metrics=['accuracy'])\n",
    "[0.14318368166685105, 0.9432] ['loss', 'acc']\n",
    "[0.14425393110215665, 0.94165] ['loss', 'acc']\n",
    "```\n",
    "\n",
    "#### sgd = optimizers.SGD(lr=0.01, decay=1e-6, momentum=0.9, nesterov=False)\n",
    "```\n",
    "model.compile(loss='categorical_hinge', optimizer='sgd', metrics=['accuracy'])\n",
    "[0.14352178813815117, 0.9423] ['loss', 'acc']\n",
    "[0.14545622345209122, 0.9408666666666666] ['loss', 'acc']\n",
    "```\n",
    "\n",
    "#### sgd = optimizers.SGD(lr=0.01, decay=1e-6, momentum=0.5, nesterov=False)\n",
    "```\n",
    "model.compile(loss='categorical_hinge', optimizer='sgd', metrics=['accuracy'])\n",
    "[0.14449261466264723, 0.942] ['loss', 'acc']\n",
    "[0.1465225926607847, 0.94075] ['loss', 'acc']\n",
    "\n",
    "```\n",
    "\n",
    "#### sgd = optimizers.SGD(lr=0.01, decay=1e-6, momentum=0.0, nesterov=False)\n",
    "```\n",
    "model.compile(loss='categorical_hinge', optimizer='sgd', metrics=['accuracy'])\n",
    "[0.1458134367585182, 0.942] ['loss', 'acc']\n",
    "[0.14705375750462213, 0.94035] ['loss', 'acc']\n",
    "```\n",
    "\n",
    "## Batch size = 4\n",
    "\n",
    "#### sgd = optimizers.SGD(lr=1.0, decay=1e-1, momentum=0.0, nesterov=False)\n",
    "```\n",
    "model.compile(loss='categorical_hinge', optimizer='sgd', metrics=['accuracy'])\n",
    "[0.0571090503513813, 0.9757] ['loss', 'acc']\n",
    "[0.03696417738199234, 0.9839166666666667] ['loss', 'acc']\n",
    "```\n",
    "\n",
    "## using weights\n",
    "\n",
    "#### sgd = optimizers.SGD(lr=0.01, decay=1e-6, momentum=0.9, nesterov=False)\n",
    "```\n",
    "model.compile(loss='categorical_hinge', optimizer='sgd', metrics=['accuracy'])\n",
    "[0.1396585720539093, 0.9447] ['loss', 'acc']\n",
    "[0.13854599306086698, 0.94465] ['loss', 'acc']\n",
    "```\n"
   ]
  },
  {
   "cell_type": "markdown",
   "metadata": {},
   "source": [
    "# Analizing and preprocessing data"
   ]
  },
  {
   "cell_type": "code",
   "execution_count": 108,
   "metadata": {},
   "outputs": [
    {
     "name": "stdout",
     "output_type": "stream",
     "text": [
      "10000/10000 [==============================] - 1s 63us/step\n",
      "(10000, 10)\n"
     ]
    }
   ],
   "source": [
    "results = model.predict(X_test,batch_size=32, verbose=1)\n",
    "print(results.shape)"
   ]
  },
  {
   "cell_type": "code",
   "execution_count": 40,
   "metadata": {},
   "outputs": [
    {
     "ename": "ImportError",
     "evalue": "Failed to import `pydot`. Please install `pydot`. For example with `pip install pydot`.",
     "output_type": "error",
     "traceback": [
      "\u001b[0;31m---------------------------------------------------------------------------\u001b[0m",
      "\u001b[0;31mImportError\u001b[0m                               Traceback (most recent call last)",
      "\u001b[0;32m<ipython-input-40-a70009143d02>\u001b[0m in \u001b[0;36m<module>\u001b[0;34m\u001b[0m\n\u001b[1;32m      1\u001b[0m \u001b[0;32mfrom\u001b[0m \u001b[0mkeras\u001b[0m\u001b[0;34m.\u001b[0m\u001b[0mutils\u001b[0m \u001b[0;32mimport\u001b[0m \u001b[0mplot_model\u001b[0m\u001b[0;34m\u001b[0m\u001b[0m\n\u001b[0;32m----> 2\u001b[0;31m \u001b[0mplot_model\u001b[0m\u001b[0;34m(\u001b[0m\u001b[0mmodel\u001b[0m\u001b[0;34m,\u001b[0m \u001b[0mto_file\u001b[0m\u001b[0;34m=\u001b[0m\u001b[0;34m'model.png'\u001b[0m\u001b[0;34m)\u001b[0m\u001b[0;34m\u001b[0m\u001b[0m\n\u001b[0m",
      "\u001b[0;32m~/anaconda3/envs/CNNs/lib/python3.6/site-packages/keras/utils/vis_utils.py\u001b[0m in \u001b[0;36mplot_model\u001b[0;34m(model, to_file, show_shapes, show_layer_names, rankdir)\u001b[0m\n\u001b[1;32m    130\u001b[0m             \u001b[0;34m'LR'\u001b[0m \u001b[0mcreates\u001b[0m \u001b[0ma\u001b[0m \u001b[0mhorizontal\u001b[0m \u001b[0mplot\u001b[0m\u001b[0;34m.\u001b[0m\u001b[0;34m\u001b[0m\u001b[0m\n\u001b[1;32m    131\u001b[0m     \"\"\"\n\u001b[0;32m--> 132\u001b[0;31m     \u001b[0mdot\u001b[0m \u001b[0;34m=\u001b[0m \u001b[0mmodel_to_dot\u001b[0m\u001b[0;34m(\u001b[0m\u001b[0mmodel\u001b[0m\u001b[0;34m,\u001b[0m \u001b[0mshow_shapes\u001b[0m\u001b[0;34m,\u001b[0m \u001b[0mshow_layer_names\u001b[0m\u001b[0;34m,\u001b[0m \u001b[0mrankdir\u001b[0m\u001b[0;34m)\u001b[0m\u001b[0;34m\u001b[0m\u001b[0m\n\u001b[0m\u001b[1;32m    133\u001b[0m     \u001b[0m_\u001b[0m\u001b[0;34m,\u001b[0m \u001b[0mextension\u001b[0m \u001b[0;34m=\u001b[0m \u001b[0mos\u001b[0m\u001b[0;34m.\u001b[0m\u001b[0mpath\u001b[0m\u001b[0;34m.\u001b[0m\u001b[0msplitext\u001b[0m\u001b[0;34m(\u001b[0m\u001b[0mto_file\u001b[0m\u001b[0;34m)\u001b[0m\u001b[0;34m\u001b[0m\u001b[0m\n\u001b[1;32m    134\u001b[0m     \u001b[0;32mif\u001b[0m \u001b[0;32mnot\u001b[0m \u001b[0mextension\u001b[0m\u001b[0;34m:\u001b[0m\u001b[0;34m\u001b[0m\u001b[0m\n",
      "\u001b[0;32m~/anaconda3/envs/CNNs/lib/python3.6/site-packages/keras/utils/vis_utils.py\u001b[0m in \u001b[0;36mmodel_to_dot\u001b[0;34m(model, show_shapes, show_layer_names, rankdir)\u001b[0m\n\u001b[1;32m     53\u001b[0m     \u001b[0;32mfrom\u001b[0m \u001b[0;34m.\u001b[0m\u001b[0;34m.\u001b[0m\u001b[0mmodels\u001b[0m \u001b[0;32mimport\u001b[0m \u001b[0mSequential\u001b[0m\u001b[0;34m\u001b[0m\u001b[0m\n\u001b[1;32m     54\u001b[0m \u001b[0;34m\u001b[0m\u001b[0m\n\u001b[0;32m---> 55\u001b[0;31m     \u001b[0m_check_pydot\u001b[0m\u001b[0;34m(\u001b[0m\u001b[0;34m)\u001b[0m\u001b[0;34m\u001b[0m\u001b[0m\n\u001b[0m\u001b[1;32m     56\u001b[0m     \u001b[0mdot\u001b[0m \u001b[0;34m=\u001b[0m \u001b[0mpydot\u001b[0m\u001b[0;34m.\u001b[0m\u001b[0mDot\u001b[0m\u001b[0;34m(\u001b[0m\u001b[0;34m)\u001b[0m\u001b[0;34m\u001b[0m\u001b[0m\n\u001b[1;32m     57\u001b[0m     \u001b[0mdot\u001b[0m\u001b[0;34m.\u001b[0m\u001b[0mset\u001b[0m\u001b[0;34m(\u001b[0m\u001b[0;34m'rankdir'\u001b[0m\u001b[0;34m,\u001b[0m \u001b[0mrankdir\u001b[0m\u001b[0;34m)\u001b[0m\u001b[0;34m\u001b[0m\u001b[0m\n",
      "\u001b[0;32m~/anaconda3/envs/CNNs/lib/python3.6/site-packages/keras/utils/vis_utils.py\u001b[0m in \u001b[0;36m_check_pydot\u001b[0;34m()\u001b[0m\n\u001b[1;32m     18\u001b[0m     \u001b[0;32mif\u001b[0m \u001b[0mpydot\u001b[0m \u001b[0;32mis\u001b[0m \u001b[0;32mNone\u001b[0m\u001b[0;34m:\u001b[0m\u001b[0;34m\u001b[0m\u001b[0m\n\u001b[1;32m     19\u001b[0m         raise ImportError(\n\u001b[0;32m---> 20\u001b[0;31m             \u001b[0;34m'Failed to import `pydot`. '\u001b[0m\u001b[0;34m\u001b[0m\u001b[0m\n\u001b[0m\u001b[1;32m     21\u001b[0m             \u001b[0;34m'Please install `pydot`. '\u001b[0m\u001b[0;34m\u001b[0m\u001b[0m\n\u001b[1;32m     22\u001b[0m             'For example with `pip install pydot`.')\n",
      "\u001b[0;31mImportError\u001b[0m: Failed to import `pydot`. Please install `pydot`. For example with `pip install pydot`."
     ]
    }
   ],
   "source": [
    "from keras.utils import plot_model\n",
    "plot_model(model, to_file='model.png')"
   ]
  },
  {
   "cell_type": "code",
   "execution_count": 143,
   "metadata": {},
   "outputs": [
    {
     "data": {
      "image/png": "[encoded data removed]",
      "text/plain": [
       "<Figure size 432x288 with 1 Axes>"
      ]
     },
     "metadata": {
      "needs_background": "light"
     },
     "output_type": "display_data"
    },
    {
     "data": {
      "image/png": "[encoded data removed]",
      "text/plain": [
       "<Figure size 432x288 with 1 Axes>"
      ]
     },
     "metadata": {
      "needs_background": "light"
     },
     "output_type": "display_data"
    }
   ],
   "source": [
    "import matplotlib.pyplot as plt\n",
    "\n",
    "# Plot training & validation accuracy values\n",
    "plt.plot(history.history['acc'])\n",
    "#plt.plot(history.history['val_acc'])\n",
    "plt.title('Model accuracy')\n",
    "plt.ylabel('Accuracy')\n",
    "plt.xlabel('Epoch')\n",
    "plt.legend(['Train', 'Test'], loc='upper left')\n",
    "plt.show()\n",
    "\n",
    "# Plot training & validation loss values\n",
    "plt.plot(history.history['loss'])\n",
    "#plt.plot(history.history['val_loss'])\n",
    "plt.title('Model loss')\n",
    "plt.ylabel('Loss')\n",
    "plt.xlabel('Epoch')\n",
    "plt.legend(['Train', 'Test'], loc='upper left')\n",
    "plt.show()"
   ]
  },
  {
   "cell_type": "code",
   "execution_count": null,
   "metadata": {},
   "outputs": [],
   "source": []
  }
 ],
 "metadata": {
  "@webio": {
   "lastCommId": "2dd73f8f3c90400d89725a5e2dceacae",
   "lastKernelId": "22916c7c-8443-424f-87d7-06cb3d82c3b4"
  },
  "kernelspec": {
   "display_name": "Python 3",
   "language": "python",
   "name": "python3"
  },
  "language_info": {
   "codemirror_mode": {
    "name": "ipython",
    "version": 3
   },
   "file_extension": ".py",
   "mimetype": "text/x-python",
   "name": "python",
   "nbconvert_exporter": "python",
   "pygments_lexer": "ipython3",
   "version": "3.6.6"
  }
 },
 "nbformat": 4,
 "nbformat_minor": 2
}
